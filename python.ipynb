{
  "nbformat": 4,
  "nbformat_minor": 0,
  "metadata": {
    "colab": {
      "provenance": [],
      "authorship_tag": "ABX9TyNvS3qiXr+nsHbscfFhScry",
      "include_colab_link": true
    },
    "kernelspec": {
      "name": "python3",
      "display_name": "Python 3"
    },
    "language_info": {
      "name": "python"
    }
  },
  "cells": [
    {
      "cell_type": "markdown",
      "metadata": {
        "id": "view-in-github",
        "colab_type": "text"
      },
      "source": [
        "<a href=\"https://colab.research.google.com/github/hoorspogmay/Python-Basic/blob/main/python.ipynb\" target=\"_parent\"><img src=\"https://colab.research.google.com/assets/colab-badge.svg\" alt=\"Open In Colab\"/></a>"
      ]
    },
    {
      "cell_type": "code",
      "execution_count": null,
      "metadata": {
        "colab": {
          "base_uri": "https://localhost:8080/"
        },
        "id": "NeMEPcgyu3lm",
        "outputId": "24583511-4172-4642-b0a8-342c9d8ae0b2"
      },
      "outputs": [
        {
          "output_type": "stream",
          "name": "stdout",
          "text": [
            "hello\n",
            "greater\n",
            "15\n",
            "<class 'str'>\n",
            "<class 'int'>\n",
            "hoor\n",
            "hoor ibraheem sally\n",
            "hooribraheemsally\n",
            "5 John\n",
            "awesome\n"
          ]
        }
      ],
      "source": [
        "print (\"hello\")\n",
        "if 5>2:\n",
        " print (\"greater\")\n",
        "x=15\n",
        "print (x)\n",
        "#comment\n",
        "y=10\n",
        "x=\"sally\"\n",
        "print(type(x))\n",
        "print(type(y))\n",
        "names = [\"hoor\",\"ibraheem\",\"sally\"]\n",
        "x,y,z = names\n",
        "print(x)\n",
        "print(x,y,z)\n",
        "print(x + y + z)\n",
        "x = 5\n",
        "y = \"John\"\n",
        "print(x, y)\n",
        "def myFunc():\n",
        "  global x\n",
        "  x=\"awesome\"\n",
        "myFunc()\n",
        "print (x)"
      ]
    }
  ]
}